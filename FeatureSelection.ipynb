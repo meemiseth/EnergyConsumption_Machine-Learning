{
 "cells": [
  {
   "cell_type": "code",
   "execution_count": 2,
   "metadata": {},
   "outputs": [
    {
     "name": "stdout",
     "output_type": "stream",
     "text": [
      "[0.03379777 0.03920138 0.03924989 0.03979523 0.03498014 0.03938209\n",
      " 0.03539764 0.03935912 0.03162148 0.04090347 0.04386009 0.04322821\n",
      " 0.03373512 0.04154741 0.03965249 0.04569522 0.02975661 0.04176374\n",
      " 0.04188566 0.03839743 0.0401562  0.03397165 0.0292851  0.04062231\n",
      " 0.04186072 0.04089384]\n"
     ]
    }
   ],
   "source": [
    "# Feature Importance\n",
    "from sklearn import metrics\n",
    "import pandas as pd\n",
    "from sklearn.ensemble import ExtraTreesClassifier\n",
    "# load the  datasets\n",
    "dataset=pd.read_csv(\"Downloads/energy_Consumption.csv\")\n",
    "# fit an Extra Trees model to the data\n",
    "X = dataset.iloc[:, 1:27].values  \n",
    "y=dataset.iloc[:, 27].values\n",
    "model = ExtraTreesClassifier()\n",
    "model.fit(X,y)\n",
    "# display the relative importance of each attribute\n",
    "print(model.feature_importances_)"
   ]
  },
  {
   "cell_type": "code",
   "execution_count": 6,
   "metadata": {},
   "outputs": [
    {
     "name": "stdout",
     "output_type": "stream",
     "text": [
      "Num Features: 3\n",
      "Selected Features: [ True False False False  True False False False  True False False False\n",
      " False False False False False False False False False False False False\n",
      " False False]\n",
      "Feature Ranking: [ 1  7  8  6  1 11  3 14  1 18  9 20  5 17  4 16  2 12 10 24 19 13 22 15\n",
      " 21 23]\n"
     ]
    }
   ],
   "source": [
    "# Feature Extraction with RFE\n",
    "import pandas as pd\n",
    "from sklearn.feature_selection import RFE\n",
    "from sklearn.linear_model import LogisticRegression\n",
    "# load data\n",
    "dataset=pd.read_csv(\"Downloads/energy_Consumption.csv\")\n",
    "# fit an Extra Trees model to the data\n",
    "X = dataset.iloc[:, 1:27].values  \n",
    "y=dataset.iloc[:, 27].values\n",
    "\n",
    "# feature extraction\n",
    "model = LogisticRegression()\n",
    "rfe = RFE(model, 3)\n",
    "fit = rfe.fit(X, y)\n",
    "print(\"Num Features: %d\" % (fit.n_features_,))\n",
    "print(\"Selected Features: %s\" % (fit.support_,))\n",
    "print(\"Feature Ranking: %s\" % (fit.ranking_,))"
   ]
  }
 ],
 "metadata": {
  "kernelspec": {
   "display_name": "Python 3",
   "language": "python",
   "name": "python3"
  },
  "language_info": {
   "codemirror_mode": {
    "name": "ipython",
    "version": 3
   },
   "file_extension": ".py",
   "mimetype": "text/x-python",
   "name": "python",
   "nbconvert_exporter": "python",
   "pygments_lexer": "ipython3",
   "version": "3.7.0"
  }
 },
 "nbformat": 4,
 "nbformat_minor": 2
}
