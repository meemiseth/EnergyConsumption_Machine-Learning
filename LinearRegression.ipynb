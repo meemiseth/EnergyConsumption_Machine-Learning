{
 "cells": [
  {
   "cell_type": "code",
   "execution_count": 16,
   "metadata": {},
   "outputs": [
    {
     "name": "stdout",
     "output_type": "stream",
     "text": [
      "                            OLS Regression Results                            \n",
      "==============================================================================\n",
      "Dep. Variable:             Appliances   R-squared:                       0.149\n",
      "Model:                            OLS   Adj. R-squared:                  0.147\n",
      "Method:                 Least Squares   F-statistic:                     109.5\n",
      "Date:                Wed, 07 Nov 2018   Prob (F-statistic):               0.00\n",
      "Time:                        21:19:55   Log-Likelihood:                -94008.\n",
      "No. Observations:               15720   AIC:                         1.881e+05\n",
      "Df Residuals:                   15694   BIC:                         1.883e+05\n",
      "Df Model:                          25                                         \n",
      "Covariance Type:            nonrobust                                         \n",
      "===============================================================================\n",
      "                  coef    std err          t      P>|t|      [0.025      0.975]\n",
      "-------------------------------------------------------------------------------\n",
      "Intercept      45.2758    107.994      0.419      0.675    -166.404     256.956\n",
      "Press_mm_hg     0.0860      0.122      0.705      0.481      -0.153       0.325\n",
      "RH_1           16.4595      0.766     21.482      0.000      14.958      17.961\n",
      "RH_2          -14.2429      0.877    -16.235      0.000     -15.963     -12.523\n",
      "RH_3            4.5590      0.774      5.888      0.000       3.041       6.077\n",
      "RH_4            1.5842      0.722      2.194      0.028       0.169       3.000\n",
      "RH_5            0.1883      0.099      1.903      0.057      -0.006       0.382\n",
      "RH_6            0.3252      0.077      4.207      0.000       0.174       0.477\n",
      "RH_7           -1.9883      0.489     -4.070      0.000      -2.946      -1.031\n",
      "RH_8           -5.8964      0.421    -14.006      0.000      -6.722      -5.071\n",
      "RH_9           -1.0142      0.468     -2.169      0.030      -1.931      -0.098\n",
      "RH_out         -0.6632      0.363     -1.826      0.068      -1.375       0.049\n",
      "T1              0.3826      2.109      0.181      0.856      -3.751       4.516\n",
      "T2            -20.1809      1.869    -10.800      0.000     -23.843     -16.518\n",
      "T3             25.4668      1.199     21.236      0.000      23.116      27.817\n",
      "T4              3.1538      1.122      2.810      0.005       0.954       5.354\n",
      "T5             -0.4776      1.344     -0.355      0.722      -3.111       2.156\n",
      "T6              7.9378      0.727     10.911      0.000       6.512       9.364\n",
      "T7              0.6246      1.509      0.414      0.679      -2.333       3.583\n",
      "T8             10.2824      1.101      9.339      0.000       8.124      12.441\n",
      "T9            -22.0752      1.985    -11.123      0.000     -25.965     -18.185\n",
      "T_out          -9.6272      1.767     -5.448      0.000     -13.091      -6.163\n",
      "Tdewpoint       3.8407      1.709      2.247      0.025       0.490       7.191\n",
      "Visibility      0.1915      0.066      2.902      0.004       0.062       0.321\n",
      "Windspeed       2.5412      0.394      6.448      0.000       1.769       3.314\n",
      "rv1            -0.0434      0.026     -1.650      0.099      -0.095       0.008\n",
      "rv2            -0.0434      0.026     -1.650      0.099      -0.095       0.008\n",
      "==============================================================================\n",
      "Omnibus:                    11003.909   Durbin-Watson:                   0.723\n",
      "Prob(Omnibus):                  0.000   Jarque-Bera (JB):           157613.286\n",
      "Skew:                           3.291   Prob(JB):                         0.00\n",
      "Kurtosis:                      17.046   Cond. No.                     1.00e+16\n",
      "==============================================================================\n",
      "\n",
      "Warnings:\n",
      "[1] Standard Errors assume that the covariance matrix of the errors is correctly specified.\n",
      "[2] The smallest eigenvalue is 9.42e-23. This might indicate that there are\n",
      "strong multicollinearity problems or that the design matrix is singular.\n"
     ]
    }
   ],
   "source": [
    "from sklearn import linear_model\n",
    "import pandas as pd\n",
    "import numpy as np\n",
    "from patsy import dmatrices\n",
    "from sklearn.linear_model import LinearRegression\n",
    "import statsmodels.api as sm\n",
    "from scipy import stats\n",
    "\n",
    "\n",
    "train = pd.read_csv('Downloads/train.csv')\n",
    "test = pd.read_csv('Downloads/test.csv')\n",
    "\n",
    "# train.drop(columns=['date', 'split', 'lights'])\n",
    "\n",
    "y, X = dmatrices('Appliances ~ ' + '+'.join(train.columns.difference(['Appliances', 'date', 'split', 'lights'])),\n",
    "                  train, return_type=\"dataframe\")\n",
    "\n",
    "\n",
    "#model = LinearRegression()\n",
    "X = sm.add_constant(X) # adding a constant\n",
    " \n",
    "model = sm.OLS(y, X).fit()\n",
    "print(model.summary())\n",
    "predictions = model.predict(X) \n",
    "\n",
    "\n",
    "#model.fit(X, y)\n",
    "\n",
    "#print(model.score(X,y))\n",
    "# 0.930422367533\n",
    "\n",
    "#print(model.intercept_, model.coef_)\n",
    "# [ 0.19208399] [[0.22700138  0.60989412 -0.10974146 -0.04424045]]\n"
   ]
  },
  {
   "cell_type": "code",
   "execution_count": null,
   "metadata": {},
   "outputs": [],
   "source": []
  },
  {
   "cell_type": "code",
   "execution_count": null,
   "metadata": {},
   "outputs": [],
   "source": []
  }
 ],
 "metadata": {
  "kernelspec": {
   "display_name": "Python 3",
   "language": "python",
   "name": "python3"
  },
  "language_info": {
   "codemirror_mode": {
    "name": "ipython",
    "version": 3
   },
   "file_extension": ".py",
   "mimetype": "text/x-python",
   "name": "python",
   "nbconvert_exporter": "python",
   "pygments_lexer": "ipython3",
   "version": "3.7.0"
  }
 },
 "nbformat": 4,
 "nbformat_minor": 2
}
